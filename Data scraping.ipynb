{
 "cells": [
  {
   "cell_type": "code",
   "execution_count": 1,
   "id": "850b13f4-7cb7-4336-a59f-41965eb9f61d",
   "metadata": {},
   "outputs": [],
   "source": [
    "import requests\n",
    "from bs4 import BeautifulSoup\n",
    "import pandas as pd\n",
    "import numpy as np\n"
   ]
  },
  {
   "cell_type": "code",
   "execution_count": 2,
   "id": "9e237bbb-cb83-422e-93ed-d744654a55d7",
   "metadata": {},
   "outputs": [],
   "source": [
    "#create an empty list to collect all reviews\n",
    "reviews  = []\n",
    "\n",
    "#create an empty list to collect rating stars\n",
    "stars = []\n",
    "\n",
    "#create an empty list to collect date\n",
    "date = []\n",
    "\n",
    "#create an empty list to collect country the reviewer is from\n",
    "country = []"
   ]
  },
  {
   "cell_type": "code",
   "execution_count": 23,
   "id": "8f12850e-a904-4e0b-8873-e038c4957122",
   "metadata": {},
   "outputs": [
    {
     "name": "stdout",
     "output_type": "stream",
     "text": [
      "Error on page 33\n",
      "Error on page 34\n",
      "Error on page 35\n",
      "Error on page 37\n",
      "Error on page 37\n"
     ]
    }
   ],
   "source": [
    "for i in range(1, 40):\n",
    "    page = requests.get(f\"https://www.airlinequality.com/airline-reviews/british-airways/page/{i}/?sortby=post_date%3ADesc&pagesize=100\")\n",
    "    \n",
    "    soup = BeautifulSoup(page.content, \"html.parser\")\n",
    "    \n",
    "    for item in soup.find_all(\"div\", class_=\"text_content\"):\n",
    "        reviews.append(item.text)\n",
    "    \n",
    "    for item in soup.find_all(\"div\", class_ = \"rating-10\"):\n",
    "        try:\n",
    "            stars.append(item.span.text)\n",
    "        except:\n",
    "            print(f\"Error on page {i}\")\n",
    "            stars.append(\"None\")\n",
    "            \n",
    "    #date\n",
    "    for item in soup.find_all(\"time\"):\n",
    "        date.append(item.text)\n",
    "        \n",
    "    #country\n",
    "    for item in soup.find_all(\"h3\"):\n",
    "        country.append(item.span.next_sibling.text.strip(\" ()\"))"
   ]
  },
  {
   "cell_type": "code",
   "execution_count": 25,
   "id": "e930d9f9-a03a-4b48-9415-d706903474c0",
   "metadata": {},
   "outputs": [
    {
     "data": {
      "text/plain": [
       "14090"
      ]
     },
     "execution_count": 25,
     "metadata": {},
     "output_type": "execute_result"
    }
   ],
   "source": [
    "len(reviews)"
   ]
  },
  {
   "cell_type": "code",
   "execution_count": 28,
   "id": "84bbc5d6-aea9-45f3-9f35-a22e3a818e6c",
   "metadata": {},
   "outputs": [],
   "source": [
    "stars = stars[:14090]"
   ]
  },
  {
   "cell_type": "code",
   "execution_count": 26,
   "id": "fa6836ac-1044-4a9a-b3e0-57dab176987f",
   "metadata": {},
   "outputs": [
    {
     "data": {
      "text/plain": [
       "14090"
      ]
     },
     "execution_count": 26,
     "metadata": {},
     "output_type": "execute_result"
    }
   ],
   "source": [
    "len(date)"
   ]
  },
  {
   "cell_type": "code",
   "execution_count": 27,
   "id": "8679ec49-ede2-4c5d-9e8b-d4b17c630e16",
   "metadata": {},
   "outputs": [
    {
     "data": {
      "text/plain": [
       "14090"
      ]
     },
     "execution_count": 27,
     "metadata": {},
     "output_type": "execute_result"
    }
   ],
   "source": [
    "len(country)"
   ]
  },
  {
   "cell_type": "code",
   "execution_count": 30,
   "id": "370f1cdf-47e9-46d7-98a3-da9a2d61876e",
   "metadata": {},
   "outputs": [
    {
     "data": {
      "text/html": [
       "<div>\n",
       "<style scoped>\n",
       "    .dataframe tbody tr th:only-of-type {\n",
       "        vertical-align: middle;\n",
       "    }\n",
       "\n",
       "    .dataframe tbody tr th {\n",
       "        vertical-align: top;\n",
       "    }\n",
       "\n",
       "    .dataframe thead th {\n",
       "        text-align: right;\n",
       "    }\n",
       "</style>\n",
       "<table border=\"1\" class=\"dataframe\">\n",
       "  <thead>\n",
       "    <tr style=\"text-align: right;\">\n",
       "      <th></th>\n",
       "      <th>reviews</th>\n",
       "      <th>stars</th>\n",
       "      <th>date</th>\n",
       "      <th>country</th>\n",
       "    </tr>\n",
       "  </thead>\n",
       "  <tbody>\n",
       "    <tr>\n",
       "      <th>0</th>\n",
       "      <td>✅ Trip Verified |   You may never see your ref...</td>\n",
       "      <td>\\n\\t\\t\\t\\t\\t\\t\\t\\t\\t\\t\\t\\t5</td>\n",
       "      <td>22nd August 2024</td>\n",
       "      <td>United States</td>\n",
       "    </tr>\n",
       "    <tr>\n",
       "      <th>1</th>\n",
       "      <td>Not Verified | Cargo service: that's how I fel...</td>\n",
       "      <td>1</td>\n",
       "      <td>21st August 2024</td>\n",
       "      <td>United States</td>\n",
       "    </tr>\n",
       "    <tr>\n",
       "      <th>2</th>\n",
       "      <td>✅ Trip Verified | Inefficient and slow airport...</td>\n",
       "      <td>5</td>\n",
       "      <td>21st August 2024</td>\n",
       "      <td>United Kingdom</td>\n",
       "    </tr>\n",
       "    <tr>\n",
       "      <th>3</th>\n",
       "      <td>Not Verified |  The customer service is one of...</td>\n",
       "      <td>4</td>\n",
       "      <td>18th August 2024</td>\n",
       "      <td>United States</td>\n",
       "    </tr>\n",
       "    <tr>\n",
       "      <th>4</th>\n",
       "      <td>Not Verified | Before my flight, I was forced ...</td>\n",
       "      <td>2</td>\n",
       "      <td>15th August 2024</td>\n",
       "      <td>United Kingdom</td>\n",
       "    </tr>\n",
       "    <tr>\n",
       "      <th>...</th>\n",
       "      <td>...</td>\n",
       "      <td>...</td>\n",
       "      <td>...</td>\n",
       "      <td>...</td>\n",
       "    </tr>\n",
       "    <tr>\n",
       "      <th>14084</th>\n",
       "      <td>Flew return in CW from LHR to BKK in August 20...</td>\n",
       "      <td>6</td>\n",
       "      <td>29th August 2012</td>\n",
       "      <td>Ireland</td>\n",
       "    </tr>\n",
       "    <tr>\n",
       "      <th>14085</th>\n",
       "      <td>Flew LHR - VIE return operated by bmi but BA a...</td>\n",
       "      <td>\\n\\t\\t\\t\\t\\t\\t\\t\\t\\t\\t\\t\\t5</td>\n",
       "      <td>29th August 2012</td>\n",
       "      <td>United Kingdom</td>\n",
       "    </tr>\n",
       "    <tr>\n",
       "      <th>14086</th>\n",
       "      <td>LHR to HAM. Purser addresses all club passenge...</td>\n",
       "      <td>7</td>\n",
       "      <td>28th August 2012</td>\n",
       "      <td>United Kingdom</td>\n",
       "    </tr>\n",
       "    <tr>\n",
       "      <th>14087</th>\n",
       "      <td>My son who had worked for British Airways urge...</td>\n",
       "      <td>6</td>\n",
       "      <td>12th October 2011</td>\n",
       "      <td>United Kingdom</td>\n",
       "    </tr>\n",
       "    <tr>\n",
       "      <th>14088</th>\n",
       "      <td>London City-New York JFK via Shannon on A318 b...</td>\n",
       "      <td>10</td>\n",
       "      <td>11th October 2011</td>\n",
       "      <td>United States</td>\n",
       "    </tr>\n",
       "  </tbody>\n",
       "</table>\n",
       "<p>14089 rows × 4 columns</p>\n",
       "</div>"
      ],
      "text/plain": [
       "                                                 reviews  \\\n",
       "0      ✅ Trip Verified |   You may never see your ref...   \n",
       "1      Not Verified | Cargo service: that's how I fel...   \n",
       "2      ✅ Trip Verified | Inefficient and slow airport...   \n",
       "3      Not Verified |  The customer service is one of...   \n",
       "4      Not Verified | Before my flight, I was forced ...   \n",
       "...                                                  ...   \n",
       "14084  Flew return in CW from LHR to BKK in August 20...   \n",
       "14085  Flew LHR - VIE return operated by bmi but BA a...   \n",
       "14086  LHR to HAM. Purser addresses all club passenge...   \n",
       "14087  My son who had worked for British Airways urge...   \n",
       "14088  London City-New York JFK via Shannon on A318 b...   \n",
       "\n",
       "                             stars               date         country  \n",
       "0      \\n\\t\\t\\t\\t\\t\\t\\t\\t\\t\\t\\t\\t5   22nd August 2024   United States  \n",
       "1                                1   21st August 2024   United States  \n",
       "2                                5   21st August 2024  United Kingdom  \n",
       "3                                4   18th August 2024   United States  \n",
       "4                                2   15th August 2024  United Kingdom  \n",
       "...                            ...                ...             ...  \n",
       "14084                            6   29th August 2012         Ireland  \n",
       "14085  \\n\\t\\t\\t\\t\\t\\t\\t\\t\\t\\t\\t\\t5   29th August 2012  United Kingdom  \n",
       "14086                            7   28th August 2012  United Kingdom  \n",
       "14087                            6  12th October 2011  United Kingdom  \n",
       "14088                           10  11th October 2011   United States  \n",
       "\n",
       "[14089 rows x 4 columns]"
      ]
     },
     "execution_count": 30,
     "metadata": {},
     "output_type": "execute_result"
    }
   ],
   "source": [
    "df = pd.DataFrame({\"reviews\":reviews,\"stars\": stars, \"date\":date, \"country\": country})\n",
    "df.head(14089)"
   ]
  },
  {
   "cell_type": "code",
   "execution_count": 32,
   "id": "488a305b-7412-4a54-a560-906fe091bf1a",
   "metadata": {},
   "outputs": [],
   "source": [
    "import os\n",
    "\n",
    "cwd = os.getcwd()\n",
    "df.to_csv(cwd+ \"/BA_reviews.csv\")"
   ]
  },
  {
   "cell_type": "code",
   "execution_count": null,
   "id": "09bdbe99-9e06-4b9e-907c-da28f790f5ba",
   "metadata": {},
   "outputs": [],
   "source": []
  }
 ],
 "metadata": {
  "kernelspec": {
   "display_name": "Python 3 (ipykernel)",
   "language": "python",
   "name": "python3"
  },
  "language_info": {
   "codemirror_mode": {
    "name": "ipython",
    "version": 3
   },
   "file_extension": ".py",
   "mimetype": "text/x-python",
   "name": "python",
   "nbconvert_exporter": "python",
   "pygments_lexer": "ipython3",
   "version": "3.11.7"
  }
 },
 "nbformat": 4,
 "nbformat_minor": 5
}
